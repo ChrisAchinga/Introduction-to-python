{
  "nbformat": 4,
  "nbformat_minor": 0,
  "metadata": {
    "colab": {
      "name": "Intro to py.ipynb",
      "version": "0.3.2",
      "provenance": [],
      "include_colab_link": true
    },
    "kernelspec": {
      "name": "python3",
      "display_name": "Python 3"
    }
  },
  "cells": [
    {
      "cell_type": "markdown",
      "metadata": {
        "id": "view-in-github",
        "colab_type": "text"
      },
      "source": [
        "<a href=\"https://colab.research.google.com/github/ChrisAchinga/Introduction-to-python/blob/master/Intro_to_py.ipynb\" target=\"_parent\"><img src=\"https://colab.research.google.com/assets/colab-badge.svg\" alt=\"Open In Colab\"/></a>"
      ]
    },
    {
      "cell_type": "code",
      "metadata": {
        "id": "62ZpgUIJp7W4",
        "colab_type": "code",
        "colab": {
          "base_uri": "https://localhost:8080/",
          "height": 51
        },
        "outputId": "b6a4980a-59e6-4328-873e-9975acd24433"
      },
      "source": [
        "first_name = \"chris\"\n",
        "first_name.capitalize\n",
        "print(first_name)\n",
        "\n",
        "#DATA TYPES\n",
        "#dictionaries\n",
        "Dict = {'Tim': 18,'Charlie':12,'Tiffany':22,'Robert':25}\n",
        "Dict[\"Tim\"]\n",
        "len(Dict)"
      ],
      "execution_count": 27,
      "outputs": [
        {
          "output_type": "stream",
          "text": [
            "chris\n"
          ],
          "name": "stdout"
        },
        {
          "output_type": "execute_result",
          "data": {
            "text/plain": [
              "4"
            ]
          },
          "metadata": {
            "tags": []
          },
          "execution_count": 27
        }
      ]
    },
    {
      "cell_type": "code",
      "metadata": {
        "id": "P-9UNeNBsfBA",
        "colab_type": "code",
        "colab": {
          "base_uri": "https://localhost:8080/",
          "height": 34
        },
        "outputId": "42288f9d-f53c-43c2-e190-658d96ac5518"
      },
      "source": [
        "#list\n",
        "thislist = [\"apple\", \"banana\", \"cherry\"]\n",
        "thislist[0] = [\"mango\"]\n",
        "thislist.append(\"pineapples\")\n",
        "thislist.insert(1, \"orange\")\n",
        "print(thislist)"
      ],
      "execution_count": 24,
      "outputs": [
        {
          "output_type": "stream",
          "text": [
            "[['mango'], 'orange', 'banana', 'cherry', 'pineapples']\n"
          ],
          "name": "stdout"
        }
      ]
    },
    {
      "cell_type": "code",
      "metadata": {
        "id": "_HipDOw4tPZE",
        "colab_type": "code",
        "colab": {}
      },
      "source": [
        "#tuple\n",
        "thistuple = (\"apple\", \"banana\", \"cherry\")"
      ],
      "execution_count": 0,
      "outputs": []
    },
    {
      "cell_type": "code",
      "metadata": {
        "id": "LVfYwff3t7lO",
        "colab_type": "code",
        "colab": {
          "base_uri": "https://localhost:8080/",
          "height": 34
        },
        "outputId": "74c6e943-cc7e-4630-fe2e-9a30e68ff5c8"
      },
      "source": [
        "#integers\n",
        "x = 1\n",
        "print(type(x))"
      ],
      "execution_count": 14,
      "outputs": [
        {
          "output_type": "stream",
          "text": [
            "<class 'int'>\n"
          ],
          "name": "stdout"
        }
      ]
    },
    {
      "cell_type": "code",
      "metadata": {
        "id": "I3gmWxn3uKtb",
        "colab_type": "code",
        "colab": {
          "base_uri": "https://localhost:8080/",
          "height": 34
        },
        "outputId": "1177ee37-ba54-452a-950a-61529934b3a2"
      },
      "source": [
        "#float\n",
        "x = 1.10\n",
        "print(type(x))"
      ],
      "execution_count": 15,
      "outputs": [
        {
          "output_type": "stream",
          "text": [
            "<class 'float'>\n"
          ],
          "name": "stdout"
        }
      ]
    },
    {
      "cell_type": "code",
      "metadata": {
        "id": "T5atomy6uWNe",
        "colab_type": "code",
        "colab": {}
      },
      "source": [
        "#boolean\n",
        "dead = False"
      ],
      "execution_count": 0,
      "outputs": []
    },
    {
      "cell_type": "code",
      "metadata": {
        "id": "gk61oJTsux_m",
        "colab_type": "code",
        "colab": {}
      },
      "source": [
        ""
      ],
      "execution_count": 0,
      "outputs": []
    }
  ]
}